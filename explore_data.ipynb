{
 "cells": [
  {
   "cell_type": "code",
   "execution_count": 1,
   "source": [
    "import tensorflow as tf\r\n",
    "import numpy as np\r\n",
    "import matplotlib.pyplot as plt\r\n",
    "import os\r\n",
    "import IPython.display as display\r\n",
    "import time\r\n",
    "\r\n",
    "from concurrent.futures import ThreadPoolExecutor\r\n",
    "from preprocessing import load_image_from_path, image_to_numpy, random_augment_image, central_crop\r\n",
    "\r\n",
    "%matplotlib inline\r\n",
    "\r\n",
    "tf.config.list_physical_devices()"
   ],
   "outputs": [
    {
     "output_type": "execute_result",
     "data": {
      "text/plain": [
       "[PhysicalDevice(name='/physical_device:CPU:0', device_type='CPU'),\n",
       " PhysicalDevice(name='/physical_device:GPU:0', device_type='GPU')]"
      ]
     },
     "metadata": {},
     "execution_count": 1
    }
   ],
   "metadata": {}
  },
  {
   "cell_type": "code",
   "execution_count": 2,
   "source": [
    "def get_files(root):\r\n",
    "    PATHS = list()\r\n",
    "\r\n",
    "    def parse_dir(root):\r\n",
    "        if os.path.isfile(root):\r\n",
    "            PATHS.append(root)\r\n",
    "        elif os.path.isdir(root):\r\n",
    "            for dirname in os.listdir(root):\r\n",
    "                parse_dir(os.path.join(root, dirname))\r\n",
    "\r\n",
    "    parse_dir(root)\r\n",
    "    return PATHS"
   ],
   "outputs": [],
   "metadata": {}
  },
  {
   "cell_type": "code",
   "execution_count": 3,
   "source": [
    "PATH_IMAGE = 'icons'\r\n",
    "\r\n",
    "PATHS = get_files(PATH_IMAGE)"
   ],
   "outputs": [],
   "metadata": {}
  },
  {
   "cell_type": "code",
   "execution_count": 4,
   "source": [
    "def get_labeled_image(path, size):\r\n",
    "\r\n",
    "    def _get_label(path):\r\n",
    "        label = tf.strings.split(path, sep=' ')[0]\r\n",
    "        label = tf.strings.split(label, sep=os.sep)[-1]\r\n",
    "        label = tf.strings.to_number(label, out_type=tf.int32) - 1\r\n",
    "        return label\r\n",
    "\r\n",
    "    label = _get_label(path)\r\n",
    "    image = load_image_from_path(path.numpy(), target_size=size)\r\n",
    "\r\n",
    "    return (image, label)"
   ],
   "outputs": [],
   "metadata": {}
  },
  {
   "cell_type": "code",
   "execution_count": 5,
   "source": [
    "def get_data(paths, counts=100, target_size=None, split=False,):\r\n",
    "\r\n",
    "    def get_augmented_image(path):\r\n",
    "        image, label = get_labeled_image(path, target_size)\r\n",
    "        image = random_augment_image(image)\r\n",
    "        image = image_to_numpy(image) / 255.\r\n",
    "        return [image, label]\r\n",
    "\r\n",
    "    images = list()\r\n",
    "    labels = list()\r\n",
    "    data = list()\r\n",
    "\r\n",
    "    paths = tf.random.shuffle(tf.repeat(paths, counts))\r\n",
    "    size = len(paths)\r\n",
    "\r\n",
    "    start_time = time.time()\r\n",
    "    \r\n",
    "    with ThreadPoolExecutor(32) as pool:\r\n",
    "        data = list(pool.map(get_augmented_image, paths))\r\n",
    "\r\n",
    "    for x, y in data:\r\n",
    "        images.append(x)\r\n",
    "        labels.append(y)\r\n",
    "\r\n",
    "    tf.print(\"Loading data takes {:.3f}s\".format(time.time()-start_time))\r\n",
    "\r\n",
    "    if split:\r\n",
    "        train_size = int(size*0.7)\r\n",
    "        return (images[:train_size], labels[:train_size]), (images[train_size:], labels[train_size:])\r\n",
    "    else:\r\n",
    "        return images, labels"
   ],
   "outputs": [],
   "metadata": {}
  },
  {
   "cell_type": "code",
   "execution_count": 13,
   "source": [
    "(train_images, train_labels), (test_images, test_labels) = get_data(PATHS, counts=10, target_size=(150, 150), split=True)"
   ],
   "outputs": [
    {
     "output_type": "stream",
     "name": "stdout",
     "text": [
      "Loading data takes 8.497s\n"
     ]
    }
   ],
   "metadata": {}
  },
  {
   "cell_type": "code",
   "execution_count": 14,
   "source": [
    "tf.shape(train_images)"
   ],
   "outputs": [
    {
     "output_type": "execute_result",
     "data": {
      "text/plain": [
       "<tf.Tensor: shape=(4,), dtype=int32, numpy=array([ 70, 150, 150,   3])>"
      ]
     },
     "metadata": {},
     "execution_count": 14
    }
   ],
   "metadata": {}
  },
  {
   "cell_type": "code",
   "execution_count": 31,
   "source": [
    "class Outline(tf.keras.layers.Layer):\r\n",
    "    def __init__(self, strides=1, padding='SAME', **kwargs):\r\n",
    "        super().__init__(**kwargs)\r\n",
    "        self.outline_filter = tf.constant([[\r\n",
    "            [[1], [0], [-1]],\r\n",
    "            [[2], [0], [-2]],\r\n",
    "            [[1], [0], [-1]]\r\n",
    "        ]], dtype=tf.float32)\r\n",
    "        self.strides = strides\r\n",
    "        self.padding = padding\r\n",
    "    def call(self, inputs):\r\n",
    "        return tf.nn.conv2d(inputs, self.outline_filter, self.strides, self.padding)"
   ],
   "outputs": [],
   "metadata": {}
  },
  {
   "cell_type": "code",
   "execution_count": 34,
   "source": [
    "model = tf.keras.Sequential([\r\n",
    "    tf.keras.layers.InputLayer((150, 150, 3)),\r\n",
    "    tf.keras.layers.Reshape((1, 150, 150, 3)),\r\n",
    "    Outline(),\r\n",
    "    tf.keras.layers.Reshape((150, 150, 1)),\r\n",
    "])\r\n",
    "\r\n",
    "model.summary()"
   ],
   "outputs": [
    {
     "output_type": "stream",
     "name": "stdout",
     "text": [
      "Model: \"sequential_4\"\n",
      "_________________________________________________________________\n",
      "Layer (type)                 Output Shape              Param #   \n",
      "=================================================================\n",
      "reshape_5 (Reshape)          (None, 1, 150, 150, 3)    0         \n",
      "_________________________________________________________________\n",
      "outline_4 (Outline)          (None, 1, 150, 150, 1)    0         \n",
      "_________________________________________________________________\n",
      "reshape_6 (Reshape)          (None, 150, 150, 1)       0         \n",
      "=================================================================\n",
      "Total params: 0\n",
      "Trainable params: 0\n",
      "Non-trainable params: 0\n",
      "_________________________________________________________________\n"
     ]
    }
   ],
   "metadata": {}
  },
  {
   "cell_type": "code",
   "execution_count": 25,
   "source": [
    "filtered = model(np.array(train_images))"
   ],
   "outputs": [],
   "metadata": {}
  },
  {
   "cell_type": "code",
   "execution_count": 28,
   "source": [
    "def show_images(data, num_rows, num_cols):\r\n",
    "    indexes = np.random.choice(len(data), num_rows*num_cols, replace=True)\r\n",
    "    plt.figure(figsize=(num_rows*2, num_rows*2))\r\n",
    "    for i, index in enumerate(indexes):\r\n",
    "        plt.subplot(num_rows, num_cols, i+1)\r\n",
    "        plt.imshow(data[index].numpy(), cmap=\"gray\")\r\n",
    "        plt.axis(\"off\")\r\n",
    "    plt.show()"
   ],
   "outputs": [],
   "metadata": {}
  },
  {
   "cell_type": "code",
   "execution_count": 29,
   "source": [
    "show_images(filtered, 4, 4)"
   ],
   "outputs": [
    {
     "output_type": "display_data",
     "data": {
      "image/png": "[encoded data removed]",
      "text/plain": [
       "<Figure size 576x576 with 16 Axes>"
      ]
     },
     "metadata": {
      "needs_background": "light"
     }
    }
   ],
   "metadata": {}
  },
  {
   "cell_type": "code",
   "execution_count": 30,
   "source": [
    "filtered.shape"
   ],
   "outputs": [
    {
     "output_type": "execute_result",
     "data": {
      "text/plain": [
       "TensorShape([1, 150, 150, 1])"
      ]
     },
     "metadata": {},
     "execution_count": 30
    }
   ],
   "metadata": {}
  },
  {
   "cell_type": "code",
   "execution_count": null,
   "source": [],
   "outputs": [],
   "metadata": {}
  }
 ],
 "metadata": {
  "kernelspec": {
   "name": "python3",
   "display_name": "Python 3.7.9 64-bit ('artway': venv)"
  },
  "language_info": {
   "codemirror_mode": {
    "name": "ipython",
    "version": 3
   },
   "file_extension": ".py",
   "mimetype": "text/x-python",
   "name": "python",
   "nbconvert_exporter": "python",
   "pygments_lexer": "ipython3",
   "version": "3.7.9"
  },
  "metadata": {
   "interpreter": {
    "hash": "f1dcec858735f28cf026453ca8bd5aada25e988bfb2e4fcaf6cc9db3b2b88195"
   }
  },
  "interpreter": {
   "hash": "f1dcec858735f28cf026453ca8bd5aada25e988bfb2e4fcaf6cc9db3b2b88195"
  }
 },
 "nbformat": 4,
 "nbformat_minor": 4
}