{
 "cells": [
  {
   "cell_type": "code",
   "execution_count": 1,
   "metadata": {},
   "outputs": [],
   "source": [
    "import tensorflow as tf\n",
    "import numpy as np\n",
    "import matplotlib.pyplot as plt\n",
    "import os\n",
    "import IPython.display as display\n",
    "import time\n",
    "\n",
    "from concurrent.futures import ThreadPoolExecutor\n",
    "from preprocessing import load_image_from_path, image_to_numpy, random_augment_image, central_crop\n",
    "\n",
    "%matplotlib inline"
   ]
  },
  {
   "cell_type": "code",
   "execution_count": 3,
   "metadata": {},
   "outputs": [],
   "source": [
    "physical_device = tf.config.list_physical_devices('GPU')[0]\n",
    "try:\n",
    "  tf.config.experimental.set_memory_growth(physical_device, True)\n",
    "except:\n",
    "  tf.print(\"Invalid device or cannot modify virtual devices once initialized. Device name {}\".format(\n",
    "      physical_device.name\n",
    "  ))\n",
    "  pass"
   ]
  },
  {
   "cell_type": "code",
   "execution_count": 4,
   "metadata": {},
   "outputs": [],
   "source": [
    "def get_files(root):\n",
    "    PATHS = list()\n",
    "\n",
    "    def parse_dir(root):\n",
    "        if os.path.isfile(root):\n",
    "            PATHS.append(root)\n",
    "        elif os.path.isdir(root):\n",
    "            for dirname in os.listdir(root):\n",
    "                parse_dir(os.path.join(root, dirname))\n",
    "\n",
    "    parse_dir(root)\n",
    "    return PATHS"
   ]
  },
  {
   "cell_type": "code",
   "execution_count": 5,
   "metadata": {},
   "outputs": [],
   "source": [
    "PATH_IMAGE = 'icons'\n",
    "\n",
    "PATHS = get_files(PATH_IMAGE)"
   ]
  },
  {
   "cell_type": "code",
   "execution_count": 6,
   "metadata": {},
   "outputs": [
    {
     "output_type": "execute_result",
     "data": {
      "text/plain": [
       "['icons\\\\1 — Test.png',\n",
       " 'icons\\\\10 — Cap.png',\n",
       " 'icons\\\\2 — Medal.png',\n",
       " 'icons\\\\3 — PC.png',\n",
       " 'icons\\\\4 — Search.png',\n",
       " 'icons\\\\5 — Projector.png',\n",
       " 'icons\\\\6 — Idea.png',\n",
       " 'icons\\\\7 — Telescope.png',\n",
       " 'icons\\\\8 — Briefcase.png',\n",
       " 'icons\\\\9 — Trofy.png']"
      ]
     },
     "metadata": {},
     "execution_count": 6
    }
   ],
   "source": [
    "PATHS"
   ]
  },
  {
   "cell_type": "code",
   "execution_count": 13,
   "metadata": {},
   "outputs": [],
   "source": [
    "def get_labeled_image(path, size):\n",
    "\n",
    "    def _get_label(path):\n",
    "        label = tf.strings.split(path, sep=' ')[0]\n",
    "        label = tf.strings.split(label, sep=os.sep)[-1]\n",
    "        label = tf.strings.to_number(label, out_type=tf.int32) - 1\n",
    "        return label\n",
    "\n",
    "    label = _get_label(path)\n",
    "    image = load_image_from_path(path.numpy(), target_size=size)\n",
    "\n",
    "    return (image, label)"
   ]
  },
  {
   "cell_type": "code",
   "execution_count": 122,
   "metadata": {},
   "outputs": [],
   "source": [
    "def get_data(paths, counts=100, split=False):\n",
    "\n",
    "    def get_augmented_image(path):\n",
    "        image, label = get_labeled_image(path, (64, 64))\n",
    "        image = random_augment_image(image)\n",
    "        image = image_to_numpy(image) / 255.\n",
    "        return [image, label]\n",
    "\n",
    "    images = list()\n",
    "    labels = list()\n",
    "    data = list()\n",
    "\n",
    "    paths = tf.random.shuffle(tf.repeat(paths, counts))\n",
    "    size = len(paths)\n",
    "\n",
    "    start_time = time.time()\n",
    "    \n",
    "    with ThreadPoolExecutor(8) as pool:\n",
    "        data = list(pool.map(get_augmented_image, paths))\n",
    "\n",
    "    for x, y in data:\n",
    "        images.append(x)\n",
    "        labels.append(y)\n",
    "\n",
    "    tf.print(\"Loading data takes {:.3f}s\".format(time.time()-start_time))\n",
    "\n",
    "    if split:\n",
    "        train_size = int(size*0.7)\n",
    "        return (images[:train_size], labels[:train_size]), (images[train_size:], labels[train_size:])\n",
    "    else:\n",
    "        return images, labels"
   ]
  },
  {
   "cell_type": "code",
   "execution_count": 123,
   "metadata": {},
   "outputs": [
    {
     "output_type": "stream",
     "name": "stdout",
     "text": [
      "Loading data takes 109.330s\n"
     ]
    }
   ],
   "source": [
    "(train_images, train_labels), (test_images, test_labels) = get_data(PATHS, counts=500, split=True)"
   ]
  },
  {
   "cell_type": "code",
   "execution_count": 124,
   "metadata": {},
   "outputs": [
    {
     "output_type": "execute_result",
     "data": {
      "text/plain": [
       "(3500, 3500, 1500, 1500)"
      ]
     },
     "metadata": {},
     "execution_count": 124
    }
   ],
   "source": [
    "len(train_images), len(train_labels), len(test_images), len(test_labels)"
   ]
  },
  {
   "cell_type": "code",
   "execution_count": 125,
   "metadata": {},
   "outputs": [
    {
     "output_type": "execute_result",
     "data": {
      "text/plain": [
       "<BatchDataset shapes: ((None, 64, 64, 3), (None,)), types: (tf.float64, tf.int32)>"
      ]
     },
     "metadata": {},
     "execution_count": 125
    }
   ],
   "source": [
    "train_dataset = tf.data.Dataset.from_tensor_slices((train_images, train_labels))\n",
    "train_dataset = train_dataset.batch(40)\n",
    "train_dataset"
   ]
  },
  {
   "cell_type": "code",
   "execution_count": 126,
   "metadata": {},
   "outputs": [],
   "source": [
    "test_dataset = tf.data.Dataset.from_tensor_slices((test_images, test_labels))\n",
    "test_dataset = test_dataset.batch(40)"
   ]
  },
  {
   "cell_type": "code",
   "execution_count": 171,
   "metadata": {},
   "outputs": [
    {
     "output_type": "stream",
     "name": "stdout",
     "text": [
      "Model: \"ArtWayClass\"\n_________________________________________________________________\nLayer (type)                 Output Shape              Param #   \n=================================================================\nconv2d_76 (Conv2D)           (None, 64, 64, 3)         84        \n_________________________________________________________________\nbatch_normalization_10 (Batc (None, 64, 64, 3)         12        \n_________________________________________________________________\nconv2d_77 (Conv2D)           (None, 32, 32, 6)         168       \n_________________________________________________________________\nbatch_normalization_11 (Batc (None, 32, 32, 6)         24        \n_________________________________________________________________\nseparable_conv2d_51 (Separab (None, 32, 32, 12)        138       \n_________________________________________________________________\nbatch_normalization_12 (Batc (None, 32, 32, 12)        48        \n_________________________________________________________________\nseparable_conv2d_52 (Separab (None, 16, 16, 24)        420       \n_________________________________________________________________\nbatch_normalization_13 (Batc (None, 16, 16, 24)        96        \n_________________________________________________________________\nseparable_conv2d_53 (Separab (None, 16, 16, 12)        516       \n_________________________________________________________________\nbatch_normalization_14 (Batc (None, 16, 16, 12)        48        \n_________________________________________________________________\nseparable_conv2d_54 (Separab (None, 8, 8, 12)          264       \n_________________________________________________________________\nbatch_normalization_15 (Batc (None, 8, 8, 12)          48        \n_________________________________________________________________\nmax_pooling2d_83 (MaxPooling (None, 4, 4, 12)          0         \n_________________________________________________________________\nflatten_33 (Flatten)         (None, 192)               0         \n_________________________________________________________________\ndropout_14 (Dropout)         (None, 192)               0         \n_________________________________________________________________\ndense_58 (Dense)             (None, 10)                1930      \n=================================================================\nTotal params: 3,796\nTrainable params: 3,658\nNon-trainable params: 138\n_________________________________________________________________\n"
     ]
    }
   ],
   "source": [
    "model = tf.keras.Sequential([\n",
    "    tf.keras.layers.InputLayer((64, 64, 3)),\n",
    "    tf.keras.layers.Conv2D(filters=3, kernel_size=3, strides=1, padding='same', activation='relu'),\n",
    "    tf.keras.layers.BatchNormalization(),\n",
    "    tf.keras.layers.Conv2D(filters=6, kernel_size=3, strides=2, padding='same', activation='relu'),\n",
    "    tf.keras.layers.BatchNormalization(),\n",
    "    tf.keras.layers.SeparableConv2D(filters=12, kernel_size=3, strides=1, padding='same', activation='relu'),\n",
    "    tf.keras.layers.BatchNormalization(),\n",
    "    tf.keras.layers.SeparableConv2D(filters=24, kernel_size=3, strides=2, padding='same', activation='relu'),\n",
    "    tf.keras.layers.BatchNormalization(),\n",
    "    tf.keras.layers.SeparableConv2D(filters=12, kernel_size=3, strides=1, padding='same', activation='relu'),\n",
    "    tf.keras.layers.BatchNormalization(),\n",
    "    tf.keras.layers.SeparableConv2D(filters=12, kernel_size=3, strides=2, padding='same', activation='relu'),\n",
    "    tf.keras.layers.BatchNormalization(),\n",
    "    tf.keras.layers.MaxPool2D(),\n",
    "    tf.keras.layers.Flatten(),\n",
    "    #tf.keras.layers.Dense(128, activation='relu', kernel_regularizer='l2'),\n",
    "    tf.keras.layers.Dropout(0.4),\n",
    "    tf.keras.layers.Dense(10),\n",
    "], name='ArtWayClass')\n",
    "\n",
    "model.summary()"
   ]
  },
  {
   "cell_type": "code",
   "execution_count": 172,
   "metadata": {},
   "outputs": [],
   "source": [
    "model.compile(\n",
    "    optimizer=tf.keras.optimizers.SGD(learning_rate=0.001, momentum=0.99, nesterov=True),\n",
    "    loss=tf.keras.losses.SparseCategoricalCrossentropy(from_logits=True),\n",
    "    metrics=['accuracy']\n",
    ")"
   ]
  },
  {
   "cell_type": "code",
   "execution_count": 173,
   "metadata": {},
   "outputs": [],
   "source": [
    "class CustomCallback(tf.keras.callbacks.Callback):\n",
    "    def on_epoch_end(self, epoch, logs=None):\n",
    "        if epoch == 0 or (epoch+1) % 10 == 0:\n",
    "            tf.print('Epoch {:4d} - loss: {:.4f} - acc: {:.4f}, val_loss: {:.4f}, val_acc - {:.4f}'.format(\n",
    "                epoch+1, logs['loss'], logs['accuracy'], logs['val_loss'], logs['val_accuracy']))"
   ]
  },
  {
   "cell_type": "code",
   "execution_count": 174,
   "metadata": {},
   "outputs": [
    {
     "output_type": "stream",
     "name": "stdout",
     "text": [
      "Epoch    1 - loss: 2.6553 - acc: 0.2271, val_loss: 1.9896, val_acc - 0.2793\n",
      "Epoch   10 - loss: 0.5020 - acc: 0.8117, val_loss: 0.7527, val_acc - 0.7307\n",
      "Epoch   20 - loss: 0.2946 - acc: 0.8937, val_loss: 0.2737, val_acc - 0.9107\n",
      "Epoch   30 - loss: 0.1737 - acc: 0.9323, val_loss: 0.0965, val_acc - 0.9713\n",
      "Epoch   40 - loss: 0.1219 - acc: 0.9589, val_loss: 0.4126, val_acc - 0.8567\n",
      "Epoch   50 - loss: 0.1063 - acc: 0.9620, val_loss: 0.0355, val_acc - 0.9900\n",
      "Epoch   60 - loss: 0.0807 - acc: 0.9737, val_loss: 0.0901, val_acc - 0.9700\n",
      "Epoch   70 - loss: 0.0764 - acc: 0.9731, val_loss: 0.1944, val_acc - 0.9373\n",
      "Epoch   80 - loss: 0.0530 - acc: 0.9823, val_loss: 0.0838, val_acc - 0.9733\n",
      "Epoch   90 - loss: 0.0665 - acc: 0.9786, val_loss: 0.0416, val_acc - 0.9860\n",
      "Epoch  100 - loss: 0.0572 - acc: 0.9794, val_loss: 0.0375, val_acc - 0.9860\n"
     ]
    },
    {
     "output_type": "execute_result",
     "data": {
      "text/plain": [
       "<tensorflow.python.keras.callbacks.History at 0x23361efd288>"
      ]
     },
     "metadata": {},
     "execution_count": 174
    }
   ],
   "source": [
    "model.fit(\n",
    "    train_dataset, \n",
    "    epochs=100,\n",
    "    validation_data=test_dataset,\n",
    "    callbacks=[CustomCallback()],\n",
    "    verbose=0\n",
    ")"
   ]
  },
  {
   "cell_type": "code",
   "execution_count": 175,
   "metadata": {},
   "outputs": [],
   "source": [
    "model.save('models/{}-0.5.h5'.format(model.name))"
   ]
  },
  {
   "cell_type": "code",
   "execution_count": 145,
   "metadata": {},
   "outputs": [
    {
     "output_type": "execute_result",
     "data": {
      "text/plain": [
       "<PIL.Image.Image image mode=RGB size=64x64 at 0x2330817E848>"
      ],
      "image/png": "[encoded data removed]"
     },
     "metadata": {},
     "execution_count": 145
    }
   ],
   "source": [
    "test_path = PATHS[6]\n",
    "\n",
    "test_image = load_image_from_path(test_path, target_size=(64, 64))\n",
    "test_image"
   ]
  },
  {
   "cell_type": "code",
   "execution_count": 146,
   "metadata": {},
   "outputs": [
    {
     "output_type": "display_data",
     "data": {
      "text/plain": "<Figure size 93.6x93.6 with 1 Axes>",
      "image/svg+xml": "<?xml version=\"1.0\" encoding=\"utf-8\" standalone=\"no\"?>\r\n<!DOCTYPE svg PUBLIC \"-//W3C//DTD SVG 1.1//EN\"\r\n  \"http://www.w3.org/Graphics/SVG/1.1/DTD/svg11.dtd\">\r\n<svg height=\"85.068pt\" version=\"1.1\" viewBox=\"0 0 85.068 85.068\" width=\"85.068pt\" xmlns=\"http://www.w3.org/2000/svg\" xmlns:xlink=\"http://www.w3.org/1999/xlink\">\r\n <metadata>\r\n  <rdf:RDF xmlns:cc=\"http://creativecommons.org/ns#\" xmlns:dc=\"http://purl.org/dc/elements/1.1/\" xmlns:rdf=\"http://www.w3.org/1999/02/22-rdf-syntax-ns#\">\r\n   <cc:Work>\r\n    <dc:type rdf:resource=\"http://purl.org/dc/dcmitype/StillImage\"/>\r\n    <dc:date>2021-04-19T11:46:38.950236</dc:date>\r\n    <dc:format>image/svg+xml</dc:format>\r\n    <dc:creator>\r\n     <cc:Agent>\r\n      <dc:title>Matplotlib v3.4.1, https://matplotlib.org/</dc:title>\r\n     </cc:Agent>\r\n    </dc:creator>\r\n   </cc:Work>\r\n  </rdf:RDF>\r\n </metadata>\r\n <defs>\r\n  <style type=\"text/css\">*{stroke-linecap:butt;stroke-linejoin:round;}</style>\r\n </defs>\r\n <g id=\"figure_1\">\r\n  <g id=\"patch_1\">\r\n   <path d=\"M 0 85.068 \r\nL 85.068 85.068 \r\nL 85.068 0 \r\nL 0 0 \r\nz\r\n\" style=\"fill:none;\"/>\r\n  </g>\r\n  <g id=\"axes_1\">\r\n   <g clip-path=\"url(#p4e2263b8ec)\">\r\n    <image height=\"71\" id=\"imageb03c8055ac\" transform=\"scale(1 -1)translate(0 -71)\" width=\"71\" x=\"7.2\" xlink:href=\"data:image/png;base64,\r\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\" y=\"-6.868\"/>\r\n   </g>\r\n  </g>\r\n </g>\r\n <defs>\r\n  <clipPath id=\"p4e2263b8ec\">\r\n   <rect height=\"70.668\" width=\"70.668\" x=\"7.2\" y=\"7.2\"/>\r\n  </clipPath>\r\n </defs>\r\n</svg>\r\n",
      "image/png": "[encoded data removed]"
     },
     "metadata": {
      "needs_background": "light"
     }
    }
   ],
   "source": [
    "plt.figure(figsize=(1.3, 1.3))\n",
    "plt.imshow(image_to_numpy(test_image)/255.)\n",
    "plt.axis('off')\n",
    "plt.show()"
   ]
  },
  {
   "cell_type": "code",
   "execution_count": null,
   "metadata": {},
   "outputs": [],
   "source": []
  }
 ],
 "metadata": {
  "kernelspec": {
   "name": "python379jvsc74a57bd0f1dcec858735f28cf026453ca8bd5aada25e988bfb2e4fcaf6cc9db3b2b88195",
   "display_name": "Python 3.7.9 64-bit ('artway')"
  },
  "language_info": {
   "codemirror_mode": {
    "name": "ipython",
    "version": 3
   },
   "file_extension": ".py",
   "mimetype": "text/x-python",
   "name": "python",
   "nbconvert_exporter": "python",
   "pygments_lexer": "ipython3",
   "version": "3.7.9-final"
  },
  "metadata": {
   "interpreter": {
    "hash": "f1dcec858735f28cf026453ca8bd5aada25e988bfb2e4fcaf6cc9db3b2b88195"
   }
  }
 },
 "nbformat": 4,
 "nbformat_minor": 4
}